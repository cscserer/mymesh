{
 "cells": [
  {
   "cell_type": "code",
   "execution_count": 28,
   "metadata": {},
   "outputs": [
    {
     "name": "stdout",
     "output_type": "stream",
     "text": [
      "0 [-0.09811318] [0.54647315]\n",
      "20 [0.03389215] [0.33446547]\n",
      "40 [0.08298252] [0.3088721]\n",
      "60 [0.09561936] [0.30228388]\n",
      "80 [0.09887235] [0.30058792]\n",
      "100 [0.09970972] [0.30015135]\n",
      "120 [0.09992529] [0.30003896]\n",
      "140 [0.09998079] [0.30001003]\n",
      "160 [0.09999507] [0.30000257]\n",
      "180 [0.09999876] [0.30000067]\n",
      "200 [0.09999969] [0.30000016]\n"
     ]
    }
   ],
   "source": [
    "import tensorflow as tf \n",
    "import numpy as np \n",
    "import matplotlib.pyplot as plt\n",
    "\n",
    "#create data\n",
    "x_data = np.random.rand(100).astype(np.float32)\n",
    "y_data = x_data * 0.1 + 0.3\n",
    "\n",
    "### create tensorflow structure start ###\n",
    "Weights = tf.Variable(tf.random_uniform([1], -1.0, 1.0))\n",
    "biases = tf.Variable(tf.zeros([1])) \n",
    "\n",
    "y = Weights * x_data + biases\n",
    "\n",
    "loss = tf.reduce_mean(tf.square(y - y_data))\n",
    "\n",
    "optimizer = tf.train.GradientDescentOptimizer(0.5)\n",
    "\n",
    "train = optimizer.minimize(loss)\n",
    "\n",
    "init = tf.initialize_all_variables()\n",
    "\n",
    "### create tensorflow structure end ###\n",
    "\n",
    "sess = tf.Session()\n",
    "sess.run(init)  \n",
    "\n",
    "for step in range(201):\n",
    "    sess.run(train)\n",
    "    if step % 20 == 0:\n",
    "        print(step, sess.run(Weights), sess.run(biases))\n"
   ]
  },
  {
   "cell_type": "code",
   "execution_count": 4,
   "metadata": {
    "scrolled": true
   },
   "outputs": [
    {
     "name": "stdout",
     "output_type": "stream",
     "text": [
      "[[12]]\n"
     ]
    }
   ],
   "source": [
    "matrix1 = tf.constant([[3,3]])\n",
    "matrix2 = tf.constant([[2],[2]])\n",
    "\n",
    "product = tf.matmul(matrix1, matrix2)\n",
    "\n",
    "sess = tf.Session()\n",
    "result = sess.run(product)\n",
    "\n",
    "print(result)\n",
    "sess.close()"
   ]
  },
  {
   "cell_type": "code",
   "execution_count": 5,
   "metadata": {},
   "outputs": [
    {
     "name": "stdout",
     "output_type": "stream",
     "text": [
      "[[12]]\n"
     ]
    }
   ],
   "source": [
    "with tf.Session() as sess:\n",
    "    result2 = sess.run(product)\n",
    "    print(result2)"
   ]
  },
  {
   "cell_type": "code",
   "execution_count": 11,
   "metadata": {},
   "outputs": [
    {
     "name": "stdout",
     "output_type": "stream",
     "text": [
      "1\n",
      "2\n",
      "3\n"
     ]
    }
   ],
   "source": [
    "state = tf.Variable(0, name = 'counter')\n",
    "# print(state.name)\n",
    "one = tf.constant(1)\n",
    "\n",
    "new_value = tf.add(state, one)\n",
    "update = tf.assign(state, new_value)\n",
    "\n",
    "init = tf.initialize_all_variables()\n",
    "\n",
    "with tf.Session() as sess:\n",
    "    sess.run(init)\n",
    "    for _ in range(3):\n",
    "        sess.run(update)\n",
    "        print(sess.run(state))"
   ]
  },
  {
   "cell_type": "code",
   "execution_count": 13,
   "metadata": {},
   "outputs": [
    {
     "name": "stdout",
     "output_type": "stream",
     "text": [
      "[14.]\n"
     ]
    }
   ],
   "source": [
    "input1 = tf.placeholder(tf.float32)\n",
    "input2 = tf.placeholder(tf.float32)\n",
    "\n",
    "output = tf.multiply(input1, input2)\n",
    "\n",
    "with tf.Session() as sess:\n",
    "    print(sess.run(output, feed_dict = {input1 : [7.], input2 : [2.]}))"
   ]
  },
  {
   "cell_type": "code",
   "execution_count": 1,
   "metadata": {},
   "outputs": [],
   "source": [
    "def add_layer(inputs, in_size, out_size, activation_function = None):\n",
    "    \n",
    "    with tf.name_scope('layer'):\n",
    "        \n",
    "        with tf.name_scope('W'):\n",
    "            Weights = tf.Variable(tf.random_normal([in_size, out_size]))\n",
    "            \n",
    "        with tf.name_scope('b'):\n",
    "            biases = tf.Variable(tf.zeros([1, out_size]) + 0.1)\n",
    "        with tf.name_scope('p'):\n",
    "            Wx_plus_b = tf.matmul(inputs, Weights) + biases\n",
    "        if activation_function == None:\n",
    "            outputs = Wx_plus_b\n",
    "        else:\n",
    "            outputs = activation_function(Wx_plus_b)\n",
    "        return outputs"
   ]
  },
  {
   "cell_type": "code",
   "execution_count": 20,
   "metadata": {},
   "outputs": [
    {
     "data": {
      "image/png": "[encoded data removed]",
      "text/plain": [
       "<Figure size 432x288 with 1 Axes>"
      ]
     },
     "metadata": {
      "needs_background": "light"
     },
     "output_type": "display_data"
    }
   ],
   "source": [
    "import tensorflow as tf \n",
    "import numpy as np \n",
    "import matplotlib.pyplot as plt\n",
    "\n",
    "x_data = np.linspace(-1, 1, 300) [:, np.newaxis]\n",
    "noise = np.random.normal(0, 0.05, x_data.shape)\n",
    "y_data = np.square(x_data) - 0.5 + noise\n",
    "\n",
    "with tf.name_scope('inputs'):\n",
    "    xs = tf.placeholder(tf.float32, [None, 1], name = 'xinput')\n",
    "    ys = tf.placeholder(tf.fldata:image/png;base64,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oat32, [None, 1], name = 'yinput')\n",
    "l1 = add_layer(xs, 1, 10, activation_function = tf.nn.relu)\n",
    "prediction = add_layer(l1, 10, 1, activation_function = None)\n",
    "\n",
    "with tf.name_scope('loss'):\n",
    "    loss = tf.reduce_mean(tf.reduce_sum(tf.square(ys - prediction), reduction_indices = [1]))\n",
    "\n",
    "\n",
    "with tf.name_scope('train'):\n",
    "    train_step = tf.train.GradientDescentOptimizer(0.1).minimize(loss)\n",
    "\n",
    "init = tf. initialize_all_variables()\n",
    "\n",
    "sess = tf.Session()\n",
    "sess.run(init)\n",
    "\n",
    "fig = plt.figure()\n",
    "ax = fig.add_subplot(1, 1, 1)\n",
    "ax.scatter(x_data, y_data)\n",
    "\n",
    "for i in range(1000):\n",
    "    sess.run(train_step, feed_dict = {xs: x_data, ys: y_data})\n",
    "    if i % 50 == 0:\n",
    "#         print (i, sess.run(loss, feed_dict = {xs: x_data, ys: y_data}))\n",
    "        if ax.lines:\n",
    "            ax.lines.remove(lines[0])\n",
    "        prediction_value = sess.run(prediction, feed_dict = {xs : x_data})\n",
    "        lines = ax.plot(x_data, prediction_value, 'r-', lw = 5)       \n",
    "        plt.pause(0.05)"
   ]
  }
 ],
 "metadata": {
  "kernelspec": {
   "display_name": "Python 3",
   "language": "python",
   "name": "python3"
  },
  "language_info": {
   "codemirror_mode": {
    "name": "ipython",
    "version": 3
   },
   "file_extension": ".py",
   "mimetype": "text/x-python",
   "name": "python",
   "nbconvert_exporter": "python",
   "pygments_lexer": "ipython3",
   "version": "3.6.8"
  }
 },
 "nbformat": 4,
 "nbformat_minor": 2
}
