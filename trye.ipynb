{
 "cells": [
  {
   "cell_type": "code",
   "execution_count": 4,
   "metadata": {},
   "outputs": [
    {
     "name": "stdout",
     "output_type": "stream",
     "text": [
      "[12, 33, 43]\n",
      "[12, 33, 43]\n",
      "[7, 8]\n"
     ]
    }
   ],
   "source": [
    "x = [12,3,43]\n",
    "y = x\n",
    "y[1] = 33\n",
    "print(x)\n",
    "y = [7,8] \n",
    "print(x)\n",
    "print(y)\n"
   ]
  },
  {
   "cell_type": "code",
   "execution_count": 5,
   "metadata": {},
   "outputs": [
    {
     "name": "stdout",
     "output_type": "stream",
     "text": [
      "185 ms ± 1.63 ms per loop (mean ± std. dev. of 7 runs, 1 loop each)\n",
      "184 ms ± 373 µs per loop (mean ± std. dev. of 7 runs, 10 loops each)\n"
     ]
    }
   ],
   "source": [
    "x = range(1000000)\n",
    "\n",
    "%timeit total = sum([i**2 for i in x])\n",
    "%timeit total = sum(i**2 for i in x)"
   ]
  }
 ],
 "metadata": {
  "kernelspec": {
   "display_name": "Python 3",
   "language": "python",
   "name": "python3"
  },
  "language_info": {
   "codemirror_mode": {
    "name": "ipython",
    "version": 3
   },
   "file_extension": ".py",
   "mimetype": "text/x-python",
   "name": "python",
   "nbconvert_exporter": "python",
   "pygments_lexer": "ipython3",
   "version": "3.7.1"
  }
 },
 "nbformat": 4,
 "nbformat_minor": 2
}
